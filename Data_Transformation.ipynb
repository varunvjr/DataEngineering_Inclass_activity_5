{
 "cells": [
  {
   "cell_type": "code",
   "execution_count": 5,
   "metadata": {},
   "outputs": [
    {
     "name": "stdout",
     "output_type": "stream",
     "text": [
      "Identifier                                                              206\n",
      "Place of Publication                                                 London\n",
      "Date of Publication                                             1879 [1878]\n",
      "Publisher                                                  S. Tinsley & Co.\n",
      "Title                                     Walter Forbes. [A novel.] By A. A\n",
      "Author                                                                A. A.\n",
      "Contributors                                                FORBES, Walter.\n",
      "Corporate Contributors                                                  NaN\n",
      "Flickr URL                http://www.flickr.com/photos/britishlibrary/ta...\n",
      "Name: 0, dtype: object\n"
     ]
    }
   ],
   "source": [
    "#Type1 : To drop columns\n",
    "\n",
    "import pandas as pd\n",
    "\n",
    "books_data=pd.read_csv(\"books.csv\")\n",
    "books_data=books_data.drop(['Edition Statement','Corporate Author','Former owner','Engraver','Issuance type','Shelfmarks'],axis=1)\n",
    "print(books_data.loc[0])\n",
    "\n",
    "\n",
    "\n"
   ]
  },
  {
   "cell_type": "code",
   "execution_count": 6,
   "metadata": {},
   "outputs": [
    {
     "name": "stdout",
     "output_type": "stream",
     "text": [
      "      Identifier      Place of Publication Date of Publication  \\\n",
      "0            206                    London         1879 [1878]   \n",
      "1            216  London; Virtue & Yorston                1868   \n",
      "2            218                    London                1869   \n",
      "3            472                    London                1851   \n",
      "4            480                    London                1857   \n",
      "...          ...                       ...                 ...   \n",
      "8282     4158088                    London                1838   \n",
      "8283     4158128                     Derby            1831, 32   \n",
      "8284     4159563                    London           [1806]-22   \n",
      "8285     4159587       Newcastle upon Tyne                1834   \n",
      "8286     4160339                    London             1834-43   \n",
      "\n",
      "                    Publisher  \\\n",
      "0            S. Tinsley & Co.   \n",
      "1                Virtue & Co.   \n",
      "2       Bradbury, Evans & Co.   \n",
      "3               James Darling   \n",
      "4        Wertheim & Macintosh   \n",
      "...                       ...   \n",
      "8282                      NaN   \n",
      "8283          M. Mozley & Son   \n",
      "8284  T. Cadell and W. Davies   \n",
      "8285         Mackenzie & Dent   \n",
      "8286                      NaN   \n",
      "\n",
      "                                                  Title  \\\n",
      "0                     Walter Forbes. [A novel.] By A. A   \n",
      "1     All for Greed. [A novel. The dedication signed...   \n",
      "2     Love the Avenger. By the author of “All for Gr...   \n",
      "3     Welsh Sketches, chiefly ecclesiastical, to the...   \n",
      "4     [The World in which I live, and my place in it...   \n",
      "...                                                 ...   \n",
      "8282  The Parochial History of Cornwall, founded on,...   \n",
      "8283  The History and Gazetteer of the County of Der...   \n",
      "8284  Magna Britannia; being a concise topographical...   \n",
      "8285  An historical, topographical and descriptive v...   \n",
      "8286  Collectanea Topographica et Genealogica. [Firs...   \n",
      "\n",
      "                                                 Author  \\\n",
      "0                                                 A. A.   \n",
      "1                                             A., A. A.   \n",
      "2                                             A., A. A.   \n",
      "3                                             A., E. S.   \n",
      "4                                             A., E. S.   \n",
      "...                                                 ...   \n",
      "8282                 GIDDY, afterwards GILBERT, Davies.   \n",
      "8283                         GLOVER, Stephen - of Derby   \n",
      "8284  LYSONS, Daniel - M.A., F.R.S., and LYSONS (Sam...   \n",
      "8285                              Mackenzie, E. (Eneas)   \n",
      "8286                                                NaN   \n",
      "\n",
      "                                           Contributors  \\\n",
      "0                                       FORBES, Walter.   \n",
      "1          BLAZE DE BURY, Marie Pauline Rose - Baroness   \n",
      "2          BLAZE DE BURY, Marie Pauline Rose - Baroness   \n",
      "3                           Appleyard, Ernest Silvanus.   \n",
      "4                                   BROOME, John Henry.   \n",
      "...                                                 ...   \n",
      "8282  BOASE, Henry Samuel.|HALS, William.|LYSONS, Da...   \n",
      "8283                                     NOBLE, Thomas.   \n",
      "8284           GREGSON, Matthew.|LYSONS, Samuel - F.R.S   \n",
      "8285                               ROSS, M. - of Durham   \n",
      "8286            BANDINEL, Bulkeley.|Nichols, John Gough   \n",
      "\n",
      "                                             Flickr URL  \n",
      "0     http://www.flickr.com/photos/britishlibrary/ta...  \n",
      "1     http://www.flickr.com/photos/britishlibrary/ta...  \n",
      "2     http://www.flickr.com/photos/britishlibrary/ta...  \n",
      "3     http://www.flickr.com/photos/britishlibrary/ta...  \n",
      "4     http://www.flickr.com/photos/britishlibrary/ta...  \n",
      "...                                                 ...  \n",
      "8282  http://www.flickr.com/photos/britishlibrary/ta...  \n",
      "8283  http://www.flickr.com/photos/britishlibrary/ta...  \n",
      "8284  http://www.flickr.com/photos/britishlibrary/ta...  \n",
      "8285  http://www.flickr.com/photos/britishlibrary/ta...  \n",
      "8286  http://www.flickr.com/photos/britishlibrary/ta...  \n",
      "\n",
      "[8287 rows x 8 columns]\n"
     ]
    }
   ],
   "source": [
    "\n",
    "#Type 2: Drop columns using usecols argument in read_csv\n",
    "\n",
    "import pandas as pd\n",
    "\n",
    "books_data=pd.read_csv(\"./books.csv\",usecols=['Identifier',  'Place of Publication',\n",
    "       'Date of Publication', 'Publisher', 'Title', 'Author', 'Contributors', 'Flickr URL'])\n",
    "print(books_data)\n"
   ]
  },
  {
   "cell_type": "code",
   "execution_count": 7,
   "metadata": {},
   "outputs": [
    {
     "name": "stdout",
     "output_type": "stream",
     "text": [
      "<class 'numpy.float64'>\n"
     ]
    }
   ],
   "source": [
    "# Remove Inconsistencies from dataset\n",
    "# Tidying Up the data\n",
    "\n",
    "import pandas as pd\n",
    "import re\n",
    " \n",
    "books_data=pd.read_csv(\"./books.csv\",usecols=['Identifier',  'Place of Publication',\n",
    "       'Date of Publication', 'Publisher', 'Title', 'Author', 'Contributors', 'Flickr URL'])\n",
    "df=books_data[\"Date of Publication\"].str.extract(r'(\\d{4})').replace(r'nan','0',regex=True).replace(r'NaN','0',regex=True)\n",
    "df1=books_data[\"Place of Publication\"].str.extract(r'([^\\s]+)').replace(';','',regex=True).replace(r'','Unknown',regex=True)\n",
    "series1=df.iloc[:,0]\n",
    "series2=df1.iloc[:,0]\n",
    "series1=pd.to_numeric(series1,errors='raise',downcast=None)\n",
    "books_data[\"Date of Publication\"]=series1\n",
    "books_data[\"Place of Publication\"]=series2\n",
    "print(type(books_data[\"Date of Publication\"].loc[0]))\n"
   ]
  },
  {
   "cell_type": "code",
   "execution_count": 8,
   "metadata": {},
   "outputs": [],
   "source": [
    "#C Using ApplyMap\n",
    "\n",
    "import pandas as pd\n",
    "import re\n",
    "\n",
    "universityDF=pd.read_csv(r'.\\uniplaces.txt',names=[\"Region\"])\n",
    "universityDF['State']=universityDF['Region'].str.extract('(.*)\\[edit\\]',expand=False).ffill()\n",
    "universityDF['Town']=universityDF['Region'].str.extract('(.*)\\(\\D*\\)',expand=False).ffill()\n",
    "universityDF['University']=universityDF[\"Region\"].str.extract('\\((.*?)\\)',expand=False).ffill()\n",
    "universityDF=universityDF.drop(\"Region\",axis=1)\n",
    "universityDF=universityDF.dropna()\n",
    "\n",
    "def removeInconsistency(val):\n",
    "    val=re.sub(r'\\(.*',\"\",str(val))\n",
    "    val=re.sub(r'-.*',\"\",str(val))\n",
    "    val=re.sub(r'\\[\\d*]',\"\",str(val))\n",
    "    return val\n",
    "\n",
    "universityDF=universityDF.applymap(removeInconsistency)\n",
    "universityDF.to_csv(r\".\\uniplaces.csv\",index=None)\n",
    "\n",
    "\n",
    "\n"
   ]
  },
  {
   "cell_type": "code",
   "execution_count": 9,
   "metadata": {},
   "outputs": [
    {
     "name": "stdout",
     "output_type": "stream",
     "text": [
      "      VEHICLE_BREADCRUMB_ID  VEHICLE_NUMBER EQUIPMENT_CLASS  \\\n",
      "0                4313659804            3411               B   \n",
      "1                4313659805            3411               B   \n",
      "2                4313659806            3411               B   \n",
      "3                4313659807            3411               B   \n",
      "4                4313659808            3411               B   \n",
      "...                     ...             ...             ...   \n",
      "1236             4313659800            3411               B   \n",
      "1237             4313659801            3411               B   \n",
      "1238             4313659802            3411               B   \n",
      "1239             4313659803            3411               B   \n",
      "1240             4311203411            2934               B   \n",
      "\n",
      "         ARRIVE_DATETIME        SERVICE_DATE  ARRIVE_TIME   LONGITUDE  \\\n",
      "0     29OCT2021:07:16:40  29OCT2021:00:00:00      26200.0 -122.799683   \n",
      "1     29OCT2021:07:16:45  29OCT2021:00:00:00      26205.0 -122.799692   \n",
      "2     29OCT2021:07:16:50  29OCT2021:00:00:00      26210.0 -122.799703   \n",
      "3     29OCT2021:07:16:55  29OCT2021:00:00:00      26215.0 -122.799717   \n",
      "4     29OCT2021:07:17:00  29OCT2021:00:00:00      26220.0 -122.799732   \n",
      "...                  ...                 ...          ...         ...   \n",
      "1236  29OCT2021:07:16:20  29OCT2021:00:00:00      26180.0 -122.799635   \n",
      "1237  29OCT2021:07:16:25  29OCT2021:00:00:00      26185.0 -122.799655   \n",
      "1238  29OCT2021:07:16:30  29OCT2021:00:00:00      26190.0 -122.799660   \n",
      "1239  29OCT2021:07:16:35  29OCT2021:00:00:00      26195.0 -122.799667   \n",
      "1240  29OCT2021:15:08:33  29OCT2021:00:00:00      54513.0 -122.677833   \n",
      "\n",
      "       LATITUDE  DWELL   DISTANCE  SPEED  SATELLITES  HDOP  OCCURRENCES  \\\n",
      "0     45.530268      0  121213.91     26          12   0.9            1   \n",
      "1     45.529737      0  121404.20     26          12   0.8            1   \n",
      "2     45.529232      0  121584.65     25          12   0.9            1   \n",
      "3     45.528730      0  121768.38     25          12   0.7            1   \n",
      "4     45.528243      0  121942.26     24          12   1.1            1   \n",
      "...         ...    ...        ...    ...         ...   ...          ...   \n",
      "1236  45.532347      0  120462.60     26          12   0.7            1   \n",
      "1237  45.531832      0  120649.61     26          12   0.8            1   \n",
      "1238  45.531313      0  120836.62     26          12   0.7            1   \n",
      "1239  45.530790      0  121023.63     26          12   0.7            1   \n",
      "1240  45.500667      0  127867.46     37          10   0.8            1   \n",
      "\n",
      "     VALID_FLAG LAST_USER      LAST_TIMESTAMP  \n",
      "0             Y     TRANS  31OCT2021:06:06:40  \n",
      "1             Y     TRANS  31OCT2021:06:06:40  \n",
      "2             Y     TRANS  31OCT2021:06:06:40  \n",
      "3             Y     TRANS  31OCT2021:06:06:40  \n",
      "4             Y     TRANS  31OCT2021:06:06:40  \n",
      "...         ...       ...                 ...  \n",
      "1236          Y     TRANS  31OCT2021:06:06:40  \n",
      "1237          Y     TRANS  31OCT2021:06:06:40  \n",
      "1238          Y     TRANS  31OCT2021:06:06:40  \n",
      "1239          Y     TRANS  31OCT2021:06:06:40  \n",
      "1240          Y     TRANS  30OCT2021:06:21:52  \n",
      "\n",
      "[2042 rows x 17 columns]\n"
     ]
    }
   ],
   "source": [
    "# D Decoding\n",
    "import pandas as pd\n",
    "\n",
    "busDF=pd.read_csv(\"trimet_03411_2.csv\")\n",
    "temp=[]\n",
    "for idx,row in busDF.iterrows():\n",
    "    num=row[\"OCCURRENCES\"]\n",
    "    for i in range(num):\n",
    "        temp.append(row)\n",
    "trimetDF=pd.DataFrame(temp)\n",
    "print(trimetDF)\n",
    "\n"
   ]
  },
  {
   "cell_type": "code",
   "execution_count": 10,
   "metadata": {},
   "outputs": [
    {
     "name": "stdout",
     "output_type": "stream",
     "text": [
      "['Y' nan]\n"
     ]
    }
   ],
   "source": [
    "# E Filling missing values in VALID_FLAG\n",
    "\n",
    "import pandas as pd\n",
    "\n",
    "busDF=pd.read_csv(\"trimet_03411_2.csv\")\n",
    "temp=[]\n",
    "for idx,row in busDF.iterrows():\n",
    "    num=row[\"OCCURRENCES\"]\n",
    "    for i in range(num):\n",
    "        temp.append(row)\n",
    "trimetDF=pd.DataFrame(temp)\n",
    "trimetFillValues=pd.read_csv(\"trimet_03411_2.csv\")\n",
    "trimetFillValues[\"VALID_FLAG\"].ffill(axis=0)\n",
    "null_Result=trimetFillValues[\"VALID_FLAG\"].isnull().values.any()\n",
    "uniqResult=trimetFillValues[\"VALID_FLAG\"].unique()\n",
    "print(uniqResult)\n"
   ]
  },
  {
   "cell_type": "code",
   "execution_count": 11,
   "metadata": {},
   "outputs": [],
   "source": [
    "# F Interpolating \n",
    "\n",
    "def changeValue(val):\n",
    "    if not val:\n",
    "        val=temp+5\n",
    "    else:\n",
    "        temp=val\n",
    "    return val\n",
    "interpolateDF=pd.read_csv(\"trimet_03411_2.csv\")\n",
    "interpolateDF=interpolateDF['ARRIVE_TIME'].interpolate().apply(changeValue)\n",
    "interpolateDF.to_csv(\"interpolate_result.csv\")\n",
    "\n"
   ]
  },
  {
   "cell_type": "code",
   "execution_count": null,
   "metadata": {},
   "outputs": [],
   "source": []
  }
 ],
 "metadata": {
  "kernelspec": {
   "display_name": "Python 3",
   "language": "python",
   "name": "python3"
  },
  "language_info": {
   "codemirror_mode": {
    "name": "ipython",
    "version": 3
   },
   "file_extension": ".py",
   "mimetype": "text/x-python",
   "name": "python",
   "nbconvert_exporter": "python",
   "pygments_lexer": "ipython3",
   "version": "3.7.6"
  }
 },
 "nbformat": 4,
 "nbformat_minor": 4
}
